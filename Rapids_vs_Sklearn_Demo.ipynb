{
  "cells": [
    {
      "cell_type": "markdown",
      "id": "d28e8439",
      "metadata": {
        "id": "d28e8439"
      },
      "source": [
        "# Objective\n",
        "\n",
        "This notebook showcases \n",
        "- the speed comparison between Rapids cudf/cp VS Pandas/Numpy\n",
        "- how similar is Rapids and Pandas in API usage\n",
        "- Rapids cuml vs sklearn (speed & accuracy)"
      ]
    },
    {
      "cell_type": "code",
      "source": [
        "!nvidia-smi"
      ],
      "metadata": {
        "colab": {
          "base_uri": "https://localhost:8080/"
        },
        "id": "HRtkKJbV9eqh",
        "outputId": "795dc9fe-ee1e-4876-f476-227889799b99"
      },
      "id": "HRtkKJbV9eqh",
      "execution_count": 17,
      "outputs": [
        {
          "output_type": "stream",
          "name": "stdout",
          "text": [
            "Tue Jan  3 02:47:27 2023       \n",
            "+-----------------------------------------------------------------------------+\n",
            "| NVIDIA-SMI 460.32.03    Driver Version: 460.32.03    CUDA Version: 11.2     |\n",
            "|-------------------------------+----------------------+----------------------+\n",
            "| GPU  Name        Persistence-M| Bus-Id        Disp.A | Volatile Uncorr. ECC |\n",
            "| Fan  Temp  Perf  Pwr:Usage/Cap|         Memory-Usage | GPU-Util  Compute M. |\n",
            "|                               |                      |               MIG M. |\n",
            "|===============================+======================+======================|\n",
            "|   0  Tesla T4            Off  | 00000000:00:04.0 Off |                    0 |\n",
            "| N/A   42C    P0    25W /  70W |      0MiB / 15109MiB |      0%      Default |\n",
            "|                               |                      |                  N/A |\n",
            "+-------------------------------+----------------------+----------------------+\n",
            "                                                                               \n",
            "+-----------------------------------------------------------------------------+\n",
            "| Processes:                                                                  |\n",
            "|  GPU   GI   CI        PID   Type   Process name                  GPU Memory |\n",
            "|        ID   ID                                                   Usage      |\n",
            "|=============================================================================|\n",
            "|  No running processes found                                                 |\n",
            "+-----------------------------------------------------------------------------+\n"
          ]
        }
      ]
    },
    {
      "cell_type": "markdown",
      "source": [
        "If you are using colab, please run the following steps to set up your Rapids environment. \n",
        "\n",
        "- Updates gcc in Colab\n",
        "- Installs Conda\n",
        "- Install RAPIDS' current stable version of its libraries\n",
        "- Copy RAPIDS .so files into current working directory, a neccessary workaround for RAPIDS+Colab integration."
      ],
      "metadata": {
        "id": "OuRsWREB9-_0"
      },
      "id": "OuRsWREB9-_0"
    },
    {
      "cell_type": "code",
      "source": [
        "# This get the RAPIDS-Colab install files and test check your GPU.  Run this and the next cell only.\n",
        "# Please read the output of this cell.  If your Colab Instance is not RAPIDS compatible, it will warn you and give you remediation steps.\n",
        "!git clone https://github.com/rapidsai/rapidsai-csp-utils.git\n",
        "!python rapidsai-csp-utils/colab/env-check.py"
      ],
      "metadata": {
        "id": "srSvl08490Bb"
      },
      "id": "srSvl08490Bb",
      "execution_count": null,
      "outputs": []
    },
    {
      "cell_type": "code",
      "source": [
        "# This will update the Colab environment and restart the kernel.  Don't run the next cell until you see the session crash.\n",
        "!bash rapidsai-csp-utils/colab/update_gcc.sh\n",
        "import os\n",
        "os._exit(00)"
      ],
      "metadata": {
        "id": "1SzxBrY0-XRk"
      },
      "id": "1SzxBrY0-XRk",
      "execution_count": null,
      "outputs": []
    },
    {
      "cell_type": "code",
      "source": [
        "# This will install CondaColab.  This will restart your kernel one last time.  Run this cell by itself and only run the next cell once you see the session crash.\n",
        "import condacolab\n",
        "condacolab.install()"
      ],
      "metadata": {
        "colab": {
          "base_uri": "https://localhost:8080/"
        },
        "id": "irBpQ-gP-b-N",
        "outputId": "35c86443-7a14-4096-ae7c-0c386054ed0d"
      },
      "id": "irBpQ-gP-b-N",
      "execution_count": 1,
      "outputs": [
        {
          "output_type": "stream",
          "name": "stdout",
          "text": [
            "⏬ Downloading https://github.com/jaimergp/miniforge/releases/latest/download/Mambaforge-colab-Linux-x86_64.sh...\n",
            "📦 Installing...\n",
            "📌 Adjusting configuration...\n",
            "🩹 Patching environment...\n",
            "⏲ Done in 0:00:21\n",
            "🔁 Restarting kernel...\n"
          ]
        }
      ]
    },
    {
      "cell_type": "code",
      "source": [
        "# you can now run the rest of the cells as normal\n",
        "import condacolab\n",
        "condacolab.check()"
      ],
      "metadata": {
        "colab": {
          "base_uri": "https://localhost:8080/"
        },
        "id": "fhes8h1T-he4",
        "outputId": "c6b798ab-45bb-4e7b-cd84-596dffde67ff"
      },
      "id": "fhes8h1T-he4",
      "execution_count": 1,
      "outputs": [
        {
          "output_type": "stream",
          "name": "stdout",
          "text": [
            "✨🍰✨ Everything looks OK!\n"
          ]
        }
      ]
    },
    {
      "cell_type": "code",
      "source": [
        "# Installing RAPIDS is now 'python rapidsai-csp-utils/colab/install_rapids.py <release> <packages>'\n",
        "# The <release> options are 'stable' and 'nightly'.  Leaving it blank or adding any other words will default to stable.\n",
        "!python rapidsai-csp-utils/colab/install_rapids.py stable\n",
        "import os\n",
        "os.environ['NUMBAPRO_NVVM'] = '/usr/local/cuda/nvvm/lib64/libnvvm.so'\n",
        "os.environ['NUMBAPRO_LIBDEVICE'] = '/usr/local/cuda/nvvm/libdevice/'\n",
        "os.environ['CONDA_PREFIX'] = '/usr/local'"
      ],
      "metadata": {
        "id": "Sl4Uxh-M-mSK"
      },
      "id": "Sl4Uxh-M-mSK",
      "execution_count": null,
      "outputs": []
    },
    {
      "cell_type": "markdown",
      "source": [],
      "metadata": {
        "id": "nhuc5xbb-nFh"
      },
      "id": "nhuc5xbb-nFh"
    },
    {
      "cell_type": "code",
      "execution_count": 59,
      "id": "9d20d4b8",
      "metadata": {
        "id": "9d20d4b8",
        "colab": {
          "base_uri": "https://localhost:8080/"
        },
        "outputId": "bb93e585-b786-4e7e-a46d-343fe98da917"
      },
      "outputs": [
        {
          "output_type": "stream",
          "name": "stdout",
          "text": [
            "Looking in indexes: https://pypi.org/simple, https://us-python.pkg.dev/colab-wheels/public/simple/\n",
            "Requirement already satisfied: pycountry in /usr/local/lib/python3.8/site-packages (22.3.5)\n",
            "Requirement already satisfied: setuptools in /usr/local/lib/python3.8/site-packages (from pycountry) (65.5.1)\n",
            "\u001b[33mWARNING: Running pip as the 'root' user can result in broken permissions and conflicting behaviour with the system package manager. It is recommended to use a virtual environment instead: https://pip.pypa.io/warnings/venv\u001b[0m\u001b[33m\n",
            "\u001b[0m"
          ]
        }
      ],
      "source": [
        "!pip install pycountry\n",
        "\n",
        "import cudf\n",
        "import cupy as cp\n",
        "\n",
        "import pandas as pd\n",
        "import numpy as np\n",
        "\n",
        "import pycountry\n",
        "import random\n",
        "\n",
        "from cuml.ensemble import RandomForestClassifier as curfc\n",
        "from cuml.metrics import accuracy_score\n",
        "\n",
        "from sklearn.ensemble import RandomForestClassifier as skrfc\n",
        "from sklearn.datasets import make_classification\n",
        "from sklearn.model_selection import train_test_split"
      ]
    },
    {
      "cell_type": "markdown",
      "id": "72fe4a7f",
      "metadata": {
        "id": "72fe4a7f"
      },
      "source": [
        "## Reading Data"
      ]
    },
    {
      "cell_type": "markdown",
      "id": "dbd390b8",
      "metadata": {
        "id": "dbd390b8"
      },
      "source": [
        "Purposely create a million large dataset. Read the generated csv file directly into GPU memory."
      ]
    },
    {
      "cell_type": "code",
      "source": [
        "# make a large dataset\n",
        "n_samples = 2**20\n",
        "n_features = 10\n",
        "data_type = np.float32\n",
        "\n",
        "X,y = make_classification(n_samples=n_samples,\n",
        "                          n_features=n_features,\n",
        "                          random_state=123, n_classes=2)\n",
        "\n",
        "X = pd.DataFrame(X.astype(data_type))\n",
        "X.columns = ['feature' + str(x) for x in range(n_features)]\n",
        "\n",
        "# randomly generate countries for the dataframe\n",
        "X['country'] = pd.Series(\n",
        "    random.choices([x.name for x in pycountry.countries], k=len(df)), \n",
        "    index=X.index\n",
        ")\n",
        "\n",
        "pd.concat([X, pd.Series(y.astype(np.int32))], axis=1).to_csv('./test.csv', index=False)\n",
        "\n",
        "del X, y"
      ],
      "metadata": {
        "id": "_TBdJxkUfV9c"
      },
      "id": "_TBdJxkUfV9c",
      "execution_count": 61,
      "outputs": []
    },
    {
      "cell_type": "code",
      "execution_count": 62,
      "id": "0889af60",
      "metadata": {
        "id": "0889af60",
        "outputId": "b338b8fa-96c2-4f65-ead6-e64248ea8c3d",
        "colab": {
          "base_uri": "https://localhost:8080/"
        }
      },
      "outputs": [
        {
          "output_type": "stream",
          "name": "stdout",
          "text": [
            "CPU times: user 1.97 s, sys: 567 ms, total: 2.54 s\n",
            "Wall time: 2.6 s\n"
          ]
        },
        {
          "output_type": "execute_result",
          "data": {
            "text/plain": [
              "(1048576, 12)"
            ]
          },
          "metadata": {},
          "execution_count": 62
        }
      ],
      "source": [
        "%%time \n",
        "df = pd.read_csv('./test.csv')\n",
        "df.shape"
      ]
    },
    {
      "cell_type": "markdown",
      "id": "728c0833",
      "metadata": {
        "id": "728c0833"
      },
      "source": [
        "Here for comparison we read the same data into a Rapids dataframe:"
      ]
    },
    {
      "cell_type": "code",
      "execution_count": 63,
      "id": "f1e494cf",
      "metadata": {
        "id": "f1e494cf",
        "outputId": "47182005-e5de-4b37-dfc1-fe50cb78954e",
        "colab": {
          "base_uri": "https://localhost:8080/"
        }
      },
      "outputs": [
        {
          "output_type": "stream",
          "name": "stdout",
          "text": [
            "CPU times: user 91.5 ms, sys: 18 ms, total: 109 ms\n",
            "Wall time: 117 ms\n"
          ]
        },
        {
          "output_type": "execute_result",
          "data": {
            "text/plain": [
              "True"
            ]
          },
          "metadata": {},
          "execution_count": 63
        }
      ],
      "source": [
        "%%time \n",
        "gdf = cudf.read_csv('./test.csv')\n",
        "gdf.shape == df.shape"
      ]
    },
    {
      "cell_type": "code",
      "execution_count": 64,
      "id": "0ba008f8",
      "metadata": {
        "id": "0ba008f8",
        "outputId": "8ea20ce3-68c2-4246-897f-6c32ea360a65",
        "colab": {
          "base_uri": "https://localhost:8080/",
          "height": 206
        }
      },
      "outputs": [
        {
          "output_type": "execute_result",
          "data": {
            "text/plain": [
              "   feature0  feature1  feature2  feature3  feature4  feature5  feature6  \\\n",
              "0 -0.535363  0.315857 -0.910635  1.166296  0.909930 -0.819358  0.755552   \n",
              "1 -0.014249  1.654942  1.218648  0.592086 -0.084250  0.441540  0.843079   \n",
              "2  2.585151 -2.490610  0.784548 -1.266088  0.766932 -0.846633 -0.376109   \n",
              "3 -0.784457  1.620303  0.535078  0.017850 -0.822449 -0.137021 -0.234215   \n",
              "4 -0.425470 -0.748202 -0.907098 -0.854806  0.480172 -1.076239 -0.919844   \n",
              "\n",
              "   feature7  feature8  feature9               country  0  \n",
              "0 -0.013121  0.776556  0.002218  Syrian Arab Republic  1  \n",
              "1 -1.560887 -1.205743 -0.583176               Tunisia  0  \n",
              "2  2.247664  1.456157 -1.370838               Albania  0  \n",
              "3 -1.680125 -1.717486 -0.076106             Gibraltar  0  \n",
              "4  0.546936 -0.016022  0.809858                 Congo  0  "
            ],
            "text/html": [
              "<div>\n",
              "<style scoped>\n",
              "    .dataframe tbody tr th:only-of-type {\n",
              "        vertical-align: middle;\n",
              "    }\n",
              "\n",
              "    .dataframe tbody tr th {\n",
              "        vertical-align: top;\n",
              "    }\n",
              "\n",
              "    .dataframe thead th {\n",
              "        text-align: right;\n",
              "    }\n",
              "</style>\n",
              "<table border=\"1\" class=\"dataframe\">\n",
              "  <thead>\n",
              "    <tr style=\"text-align: right;\">\n",
              "      <th></th>\n",
              "      <th>feature0</th>\n",
              "      <th>feature1</th>\n",
              "      <th>feature2</th>\n",
              "      <th>feature3</th>\n",
              "      <th>feature4</th>\n",
              "      <th>feature5</th>\n",
              "      <th>feature6</th>\n",
              "      <th>feature7</th>\n",
              "      <th>feature8</th>\n",
              "      <th>feature9</th>\n",
              "      <th>country</th>\n",
              "      <th>0</th>\n",
              "    </tr>\n",
              "  </thead>\n",
              "  <tbody>\n",
              "    <tr>\n",
              "      <th>0</th>\n",
              "      <td>-0.535363</td>\n",
              "      <td>0.315857</td>\n",
              "      <td>-0.910635</td>\n",
              "      <td>1.166296</td>\n",
              "      <td>0.909930</td>\n",
              "      <td>-0.819358</td>\n",
              "      <td>0.755552</td>\n",
              "      <td>-0.013121</td>\n",
              "      <td>0.776556</td>\n",
              "      <td>0.002218</td>\n",
              "      <td>Syrian Arab Republic</td>\n",
              "      <td>1</td>\n",
              "    </tr>\n",
              "    <tr>\n",
              "      <th>1</th>\n",
              "      <td>-0.014249</td>\n",
              "      <td>1.654942</td>\n",
              "      <td>1.218648</td>\n",
              "      <td>0.592086</td>\n",
              "      <td>-0.084250</td>\n",
              "      <td>0.441540</td>\n",
              "      <td>0.843079</td>\n",
              "      <td>-1.560887</td>\n",
              "      <td>-1.205743</td>\n",
              "      <td>-0.583176</td>\n",
              "      <td>Tunisia</td>\n",
              "      <td>0</td>\n",
              "    </tr>\n",
              "    <tr>\n",
              "      <th>2</th>\n",
              "      <td>2.585151</td>\n",
              "      <td>-2.490610</td>\n",
              "      <td>0.784548</td>\n",
              "      <td>-1.266088</td>\n",
              "      <td>0.766932</td>\n",
              "      <td>-0.846633</td>\n",
              "      <td>-0.376109</td>\n",
              "      <td>2.247664</td>\n",
              "      <td>1.456157</td>\n",
              "      <td>-1.370838</td>\n",
              "      <td>Albania</td>\n",
              "      <td>0</td>\n",
              "    </tr>\n",
              "    <tr>\n",
              "      <th>3</th>\n",
              "      <td>-0.784457</td>\n",
              "      <td>1.620303</td>\n",
              "      <td>0.535078</td>\n",
              "      <td>0.017850</td>\n",
              "      <td>-0.822449</td>\n",
              "      <td>-0.137021</td>\n",
              "      <td>-0.234215</td>\n",
              "      <td>-1.680125</td>\n",
              "      <td>-1.717486</td>\n",
              "      <td>-0.076106</td>\n",
              "      <td>Gibraltar</td>\n",
              "      <td>0</td>\n",
              "    </tr>\n",
              "    <tr>\n",
              "      <th>4</th>\n",
              "      <td>-0.425470</td>\n",
              "      <td>-0.748202</td>\n",
              "      <td>-0.907098</td>\n",
              "      <td>-0.854806</td>\n",
              "      <td>0.480172</td>\n",
              "      <td>-1.076239</td>\n",
              "      <td>-0.919844</td>\n",
              "      <td>0.546936</td>\n",
              "      <td>-0.016022</td>\n",
              "      <td>0.809858</td>\n",
              "      <td>Congo</td>\n",
              "      <td>0</td>\n",
              "    </tr>\n",
              "  </tbody>\n",
              "</table>\n",
              "</div>"
            ]
          },
          "metadata": {},
          "execution_count": 64
        }
      ],
      "source": [
        "gdf.head()"
      ]
    },
    {
      "cell_type": "markdown",
      "id": "a4a3f650",
      "metadata": {
        "id": "a4a3f650"
      },
      "source": [
        "## Data Transformation"
      ]
    },
    {
      "cell_type": "code",
      "execution_count": 65,
      "id": "49a759c0",
      "metadata": {
        "id": "49a759c0",
        "outputId": "1d48a699-dd22-4be0-c548-896645b8b0a0",
        "colab": {
          "base_uri": "https://localhost:8080/"
        }
      },
      "outputs": [
        {
          "output_type": "stream",
          "name": "stdout",
          "text": [
            "CPU times: user 17.1 ms, sys: 25.1 ms, total: 42.1 ms\n",
            "Wall time: 46.5 ms\n"
          ]
        }
      ],
      "source": [
        "%%time \n",
        "df['feature0'] = df['feature0'].astype('float32')"
      ]
    },
    {
      "cell_type": "code",
      "execution_count": 66,
      "id": "f724a98f",
      "metadata": {
        "id": "f724a98f",
        "outputId": "07e199c8-cc0e-4727-92ea-51b430b3ed18",
        "colab": {
          "base_uri": "https://localhost:8080/"
        }
      },
      "outputs": [
        {
          "output_type": "stream",
          "name": "stdout",
          "text": [
            "CPU times: user 1.74 ms, sys: 996 µs, total: 2.74 ms\n",
            "Wall time: 1.98 ms\n"
          ]
        }
      ],
      "source": [
        "%%time \n",
        "gdf['feature0'] = gdf['feature0'].astype('float32')"
      ]
    },
    {
      "cell_type": "markdown",
      "id": "3843cba6",
      "metadata": {
        "id": "3843cba6"
      },
      "source": [
        "## Data Aggregation"
      ]
    },
    {
      "cell_type": "code",
      "execution_count": 67,
      "id": "223e750a",
      "metadata": {
        "id": "223e750a",
        "outputId": "73cbe3e5-5523-4cea-80b7-6a033c4d5777",
        "colab": {
          "base_uri": "https://localhost:8080/"
        }
      },
      "outputs": [
        {
          "output_type": "stream",
          "name": "stdout",
          "text": [
            "CPU times: user 4.87 ms, sys: 0 ns, total: 4.87 ms\n",
            "Wall time: 3.64 ms\n"
          ]
        },
        {
          "output_type": "execute_result",
          "data": {
            "text/plain": [
              "-0.00045146846"
            ]
          },
          "metadata": {},
          "execution_count": 67
        }
      ],
      "source": [
        "%%time \n",
        "df['feature0'].mean()"
      ]
    },
    {
      "cell_type": "code",
      "execution_count": 68,
      "id": "35226617",
      "metadata": {
        "id": "35226617",
        "outputId": "a2e49e07-ebcc-43b1-9afe-e35fcb87d6a3",
        "colab": {
          "base_uri": "https://localhost:8080/"
        }
      },
      "outputs": [
        {
          "output_type": "stream",
          "name": "stdout",
          "text": [
            "CPU times: user 1.17 ms, sys: 2.01 ms, total: 3.18 ms\n",
            "Wall time: 3.7 ms\n"
          ]
        },
        {
          "output_type": "execute_result",
          "data": {
            "text/plain": [
              "-0.00045146862501266186"
            ]
          },
          "metadata": {},
          "execution_count": 68
        }
      ],
      "source": [
        "%%time \n",
        "gdf['feature0'].mean()"
      ]
    },
    {
      "cell_type": "markdown",
      "id": "bd1e7087",
      "metadata": {
        "id": "bd1e7087"
      },
      "source": [
        "## Data Slicing"
      ]
    },
    {
      "cell_type": "code",
      "execution_count": 69,
      "id": "3bfb4420",
      "metadata": {
        "id": "3bfb4420",
        "outputId": "f3ec56b5-cb62-4943-b8de-02984b9cc6e7",
        "colab": {
          "base_uri": "https://localhost:8080/",
          "height": 243
        }
      },
      "outputs": [
        {
          "output_type": "stream",
          "name": "stdout",
          "text": [
            "CPU times: user 295 ms, sys: 9 µs, total: 295 ms\n",
            "Wall time: 295 ms\n"
          ]
        },
        {
          "output_type": "execute_result",
          "data": {
            "text/plain": [
              "    feature0  feature1  feature2  feature3  feature4  feature5  feature6  \\\n",
              "33  0.088731  1.919771 -0.840660  2.117903  1.453341 -0.881644 -0.588299   \n",
              "42  0.078306 -1.075666  1.036882 -0.288157 -0.994951  0.518903 -0.300352   \n",
              "85 -0.142626  2.025860  0.127316  1.574368  1.727989  0.663708 -0.726141   \n",
              "90  1.465856 -1.135237  1.077965  0.804901 -0.235604 -1.324354 -0.366701   \n",
              "99 -0.453122 -1.757094 -0.576450 -0.406361 -1.098253 -0.778733  1.761517   \n",
              "\n",
              "    feature7  feature8  feature9            country  0  \n",
              "33 -1.423739 -0.030950  1.318564        El Salvador  1  \n",
              "42  1.040673  0.876103  0.464713  Equatorial Guinea  1  \n",
              "85 -1.681019 -0.664001  0.222185            Estonia  1  \n",
              "90  1.398157  1.984561  1.183827              Egypt  1  \n",
              "99  1.717330  1.492604 -0.110965           Ethiopia  1  "
            ],
            "text/html": [
              "\n",
              "  <div id=\"df-0685cda0-8612-4d11-a774-af522db467eb\">\n",
              "    <div class=\"colab-df-container\">\n",
              "      <div>\n",
              "<style scoped>\n",
              "    .dataframe tbody tr th:only-of-type {\n",
              "        vertical-align: middle;\n",
              "    }\n",
              "\n",
              "    .dataframe tbody tr th {\n",
              "        vertical-align: top;\n",
              "    }\n",
              "\n",
              "    .dataframe thead th {\n",
              "        text-align: right;\n",
              "    }\n",
              "</style>\n",
              "<table border=\"1\" class=\"dataframe\">\n",
              "  <thead>\n",
              "    <tr style=\"text-align: right;\">\n",
              "      <th></th>\n",
              "      <th>feature0</th>\n",
              "      <th>feature1</th>\n",
              "      <th>feature2</th>\n",
              "      <th>feature3</th>\n",
              "      <th>feature4</th>\n",
              "      <th>feature5</th>\n",
              "      <th>feature6</th>\n",
              "      <th>feature7</th>\n",
              "      <th>feature8</th>\n",
              "      <th>feature9</th>\n",
              "      <th>country</th>\n",
              "      <th>0</th>\n",
              "    </tr>\n",
              "  </thead>\n",
              "  <tbody>\n",
              "    <tr>\n",
              "      <th>33</th>\n",
              "      <td>0.088731</td>\n",
              "      <td>1.919771</td>\n",
              "      <td>-0.840660</td>\n",
              "      <td>2.117903</td>\n",
              "      <td>1.453341</td>\n",
              "      <td>-0.881644</td>\n",
              "      <td>-0.588299</td>\n",
              "      <td>-1.423739</td>\n",
              "      <td>-0.030950</td>\n",
              "      <td>1.318564</td>\n",
              "      <td>El Salvador</td>\n",
              "      <td>1</td>\n",
              "    </tr>\n",
              "    <tr>\n",
              "      <th>42</th>\n",
              "      <td>0.078306</td>\n",
              "      <td>-1.075666</td>\n",
              "      <td>1.036882</td>\n",
              "      <td>-0.288157</td>\n",
              "      <td>-0.994951</td>\n",
              "      <td>0.518903</td>\n",
              "      <td>-0.300352</td>\n",
              "      <td>1.040673</td>\n",
              "      <td>0.876103</td>\n",
              "      <td>0.464713</td>\n",
              "      <td>Equatorial Guinea</td>\n",
              "      <td>1</td>\n",
              "    </tr>\n",
              "    <tr>\n",
              "      <th>85</th>\n",
              "      <td>-0.142626</td>\n",
              "      <td>2.025860</td>\n",
              "      <td>0.127316</td>\n",
              "      <td>1.574368</td>\n",
              "      <td>1.727989</td>\n",
              "      <td>0.663708</td>\n",
              "      <td>-0.726141</td>\n",
              "      <td>-1.681019</td>\n",
              "      <td>-0.664001</td>\n",
              "      <td>0.222185</td>\n",
              "      <td>Estonia</td>\n",
              "      <td>1</td>\n",
              "    </tr>\n",
              "    <tr>\n",
              "      <th>90</th>\n",
              "      <td>1.465856</td>\n",
              "      <td>-1.135237</td>\n",
              "      <td>1.077965</td>\n",
              "      <td>0.804901</td>\n",
              "      <td>-0.235604</td>\n",
              "      <td>-1.324354</td>\n",
              "      <td>-0.366701</td>\n",
              "      <td>1.398157</td>\n",
              "      <td>1.984561</td>\n",
              "      <td>1.183827</td>\n",
              "      <td>Egypt</td>\n",
              "      <td>1</td>\n",
              "    </tr>\n",
              "    <tr>\n",
              "      <th>99</th>\n",
              "      <td>-0.453122</td>\n",
              "      <td>-1.757094</td>\n",
              "      <td>-0.576450</td>\n",
              "      <td>-0.406361</td>\n",
              "      <td>-1.098253</td>\n",
              "      <td>-0.778733</td>\n",
              "      <td>1.761517</td>\n",
              "      <td>1.717330</td>\n",
              "      <td>1.492604</td>\n",
              "      <td>-0.110965</td>\n",
              "      <td>Ethiopia</td>\n",
              "      <td>1</td>\n",
              "    </tr>\n",
              "  </tbody>\n",
              "</table>\n",
              "</div>\n",
              "      <button class=\"colab-df-convert\" onclick=\"convertToInteractive('df-0685cda0-8612-4d11-a774-af522db467eb')\"\n",
              "              title=\"Convert this dataframe to an interactive table.\"\n",
              "              style=\"display:none;\">\n",
              "        \n",
              "  <svg xmlns=\"http://www.w3.org/2000/svg\" height=\"24px\"viewBox=\"0 0 24 24\"\n",
              "       width=\"24px\">\n",
              "    <path d=\"M0 0h24v24H0V0z\" fill=\"none\"/>\n",
              "    <path d=\"M18.56 5.44l.94 2.06.94-2.06 2.06-.94-2.06-.94-.94-2.06-.94 2.06-2.06.94zm-11 1L8.5 8.5l.94-2.06 2.06-.94-2.06-.94L8.5 2.5l-.94 2.06-2.06.94zm10 10l.94 2.06.94-2.06 2.06-.94-2.06-.94-.94-2.06-.94 2.06-2.06.94z\"/><path d=\"M17.41 7.96l-1.37-1.37c-.4-.4-.92-.59-1.43-.59-.52 0-1.04.2-1.43.59L10.3 9.45l-7.72 7.72c-.78.78-.78 2.05 0 2.83L4 21.41c.39.39.9.59 1.41.59.51 0 1.02-.2 1.41-.59l7.78-7.78 2.81-2.81c.8-.78.8-2.07 0-2.86zM5.41 20L4 18.59l7.72-7.72 1.47 1.35L5.41 20z\"/>\n",
              "  </svg>\n",
              "      </button>\n",
              "      \n",
              "  <style>\n",
              "    .colab-df-container {\n",
              "      display:flex;\n",
              "      flex-wrap:wrap;\n",
              "      gap: 12px;\n",
              "    }\n",
              "\n",
              "    .colab-df-convert {\n",
              "      background-color: #E8F0FE;\n",
              "      border: none;\n",
              "      border-radius: 50%;\n",
              "      cursor: pointer;\n",
              "      display: none;\n",
              "      fill: #1967D2;\n",
              "      height: 32px;\n",
              "      padding: 0 0 0 0;\n",
              "      width: 32px;\n",
              "    }\n",
              "\n",
              "    .colab-df-convert:hover {\n",
              "      background-color: #E2EBFA;\n",
              "      box-shadow: 0px 1px 2px rgba(60, 64, 67, 0.3), 0px 1px 3px 1px rgba(60, 64, 67, 0.15);\n",
              "      fill: #174EA6;\n",
              "    }\n",
              "\n",
              "    [theme=dark] .colab-df-convert {\n",
              "      background-color: #3B4455;\n",
              "      fill: #D2E3FC;\n",
              "    }\n",
              "\n",
              "    [theme=dark] .colab-df-convert:hover {\n",
              "      background-color: #434B5C;\n",
              "      box-shadow: 0px 1px 3px 1px rgba(0, 0, 0, 0.15);\n",
              "      filter: drop-shadow(0px 1px 2px rgba(0, 0, 0, 0.3));\n",
              "      fill: #FFFFFF;\n",
              "    }\n",
              "  </style>\n",
              "\n",
              "      <script>\n",
              "        const buttonEl =\n",
              "          document.querySelector('#df-0685cda0-8612-4d11-a774-af522db467eb button.colab-df-convert');\n",
              "        buttonEl.style.display =\n",
              "          google.colab.kernel.accessAllowed ? 'block' : 'none';\n",
              "\n",
              "        async function convertToInteractive(key) {\n",
              "          const element = document.querySelector('#df-0685cda0-8612-4d11-a774-af522db467eb');\n",
              "          const dataTable =\n",
              "            await google.colab.kernel.invokeFunction('convertToInteractive',\n",
              "                                                     [key], {});\n",
              "          if (!dataTable) return;\n",
              "\n",
              "          const docLinkHtml = 'Like what you see? Visit the ' +\n",
              "            '<a target=\"_blank\" href=https://colab.research.google.com/notebooks/data_table.ipynb>data table notebook</a>'\n",
              "            + ' to learn more about interactive tables.';\n",
              "          element.innerHTML = '';\n",
              "          dataTable['output_type'] = 'display_data';\n",
              "          await google.colab.output.renderOutput(dataTable, element);\n",
              "          const docLink = document.createElement('div');\n",
              "          docLink.innerHTML = docLinkHtml;\n",
              "          element.appendChild(docLink);\n",
              "        }\n",
              "      </script>\n",
              "    </div>\n",
              "  </div>\n",
              "  "
            ]
          },
          "metadata": {},
          "execution_count": 69
        }
      ],
      "source": [
        "%%time \n",
        "e_countries_pd = df.loc[df['country'].str.startswith('E')]\n",
        "e_countries_pd.head()"
      ]
    },
    {
      "cell_type": "code",
      "execution_count": 70,
      "id": "dfa6d9dd",
      "metadata": {
        "id": "dfa6d9dd",
        "outputId": "b1e2b7a2-1a24-48a7-fdc4-d60181df2b50",
        "colab": {
          "base_uri": "https://localhost:8080/",
          "height": 243
        }
      },
      "outputs": [
        {
          "output_type": "stream",
          "name": "stdout",
          "text": [
            "CPU times: user 9.68 ms, sys: 995 µs, total: 10.7 ms\n",
            "Wall time: 14.6 ms\n"
          ]
        },
        {
          "output_type": "execute_result",
          "data": {
            "text/plain": [
              "    feature0  feature1  feature2  feature3  feature4  feature5  feature6  \\\n",
              "33  0.088731  1.919771 -0.840660  2.117903  1.453341 -0.881644 -0.588299   \n",
              "42  0.078306 -1.075666  1.036882 -0.288157 -0.994951  0.518903 -0.300352   \n",
              "85 -0.142626  2.025860  0.127316  1.574368  1.727989  0.663708 -0.726141   \n",
              "90  1.465856 -1.135237  1.077965  0.804901 -0.235604 -1.324354 -0.366701   \n",
              "99 -0.453122 -1.757094 -0.576450 -0.406361 -1.098253 -0.778733  1.761517   \n",
              "\n",
              "    feature7  feature8  feature9            country  0  \n",
              "33 -1.423739 -0.030950  1.318564        El Salvador  1  \n",
              "42  1.040673  0.876103  0.464713  Equatorial Guinea  1  \n",
              "85 -1.681019 -0.664001  0.222185            Estonia  1  \n",
              "90  1.398157  1.984561  1.183827              Egypt  1  \n",
              "99  1.717330  1.492604 -0.110965           Ethiopia  1  "
            ],
            "text/html": [
              "<div>\n",
              "<style scoped>\n",
              "    .dataframe tbody tr th:only-of-type {\n",
              "        vertical-align: middle;\n",
              "    }\n",
              "\n",
              "    .dataframe tbody tr th {\n",
              "        vertical-align: top;\n",
              "    }\n",
              "\n",
              "    .dataframe thead th {\n",
              "        text-align: right;\n",
              "    }\n",
              "</style>\n",
              "<table border=\"1\" class=\"dataframe\">\n",
              "  <thead>\n",
              "    <tr style=\"text-align: right;\">\n",
              "      <th></th>\n",
              "      <th>feature0</th>\n",
              "      <th>feature1</th>\n",
              "      <th>feature2</th>\n",
              "      <th>feature3</th>\n",
              "      <th>feature4</th>\n",
              "      <th>feature5</th>\n",
              "      <th>feature6</th>\n",
              "      <th>feature7</th>\n",
              "      <th>feature8</th>\n",
              "      <th>feature9</th>\n",
              "      <th>country</th>\n",
              "      <th>0</th>\n",
              "    </tr>\n",
              "  </thead>\n",
              "  <tbody>\n",
              "    <tr>\n",
              "      <th>33</th>\n",
              "      <td>0.088731</td>\n",
              "      <td>1.919771</td>\n",
              "      <td>-0.840660</td>\n",
              "      <td>2.117903</td>\n",
              "      <td>1.453341</td>\n",
              "      <td>-0.881644</td>\n",
              "      <td>-0.588299</td>\n",
              "      <td>-1.423739</td>\n",
              "      <td>-0.030950</td>\n",
              "      <td>1.318564</td>\n",
              "      <td>El Salvador</td>\n",
              "      <td>1</td>\n",
              "    </tr>\n",
              "    <tr>\n",
              "      <th>42</th>\n",
              "      <td>0.078306</td>\n",
              "      <td>-1.075666</td>\n",
              "      <td>1.036882</td>\n",
              "      <td>-0.288157</td>\n",
              "      <td>-0.994951</td>\n",
              "      <td>0.518903</td>\n",
              "      <td>-0.300352</td>\n",
              "      <td>1.040673</td>\n",
              "      <td>0.876103</td>\n",
              "      <td>0.464713</td>\n",
              "      <td>Equatorial Guinea</td>\n",
              "      <td>1</td>\n",
              "    </tr>\n",
              "    <tr>\n",
              "      <th>85</th>\n",
              "      <td>-0.142626</td>\n",
              "      <td>2.025860</td>\n",
              "      <td>0.127316</td>\n",
              "      <td>1.574368</td>\n",
              "      <td>1.727989</td>\n",
              "      <td>0.663708</td>\n",
              "      <td>-0.726141</td>\n",
              "      <td>-1.681019</td>\n",
              "      <td>-0.664001</td>\n",
              "      <td>0.222185</td>\n",
              "      <td>Estonia</td>\n",
              "      <td>1</td>\n",
              "    </tr>\n",
              "    <tr>\n",
              "      <th>90</th>\n",
              "      <td>1.465856</td>\n",
              "      <td>-1.135237</td>\n",
              "      <td>1.077965</td>\n",
              "      <td>0.804901</td>\n",
              "      <td>-0.235604</td>\n",
              "      <td>-1.324354</td>\n",
              "      <td>-0.366701</td>\n",
              "      <td>1.398157</td>\n",
              "      <td>1.984561</td>\n",
              "      <td>1.183827</td>\n",
              "      <td>Egypt</td>\n",
              "      <td>1</td>\n",
              "    </tr>\n",
              "    <tr>\n",
              "      <th>99</th>\n",
              "      <td>-0.453122</td>\n",
              "      <td>-1.757094</td>\n",
              "      <td>-0.576450</td>\n",
              "      <td>-0.406361</td>\n",
              "      <td>-1.098253</td>\n",
              "      <td>-0.778733</td>\n",
              "      <td>1.761517</td>\n",
              "      <td>1.717330</td>\n",
              "      <td>1.492604</td>\n",
              "      <td>-0.110965</td>\n",
              "      <td>Ethiopia</td>\n",
              "      <td>1</td>\n",
              "    </tr>\n",
              "  </tbody>\n",
              "</table>\n",
              "</div>"
            ]
          },
          "metadata": {},
          "execution_count": 70
        }
      ],
      "source": [
        "%%time\n",
        "e_countries = gdf.loc[gdf['country'].str.startswith('E')]\n",
        "e_countries.head()"
      ]
    },
    {
      "cell_type": "code",
      "execution_count": 73,
      "id": "725e2eed",
      "metadata": {
        "id": "725e2eed",
        "outputId": "46ee9e77-019a-4757-cf1d-66d9d887dc1e",
        "colab": {
          "base_uri": "https://localhost:8080/",
          "height": 243
        }
      },
      "outputs": [
        {
          "output_type": "stream",
          "name": "stdout",
          "text": [
            "CPU times: user 518 ms, sys: 3.02 ms, total: 521 ms\n",
            "Wall time: 548 ms\n"
          ]
        },
        {
          "output_type": "execute_result",
          "data": {
            "text/plain": [
              "         feature0  feature1  feature2  feature3  feature4  feature5  feature6  \\\n",
              "1048392  1.647939 -0.941760  1.908531  0.768186 -2.233725  0.184583  0.940199   \n",
              "1048411 -2.230785  0.453977  0.454118  0.959416  0.108926 -0.693497  1.594232   \n",
              "1048431 -0.421270  2.016044 -1.579364  1.283840 -1.909855  0.076988 -0.180474   \n",
              "1048444  0.088414 -0.008242  1.221826  1.279175 -0.247247  2.036476  1.897682   \n",
              "1048493 -0.137712  2.568535 -1.644909  0.573583  0.104550  0.438326 -1.485963   \n",
              "\n",
              "         feature7  feature8  feature9                               country  0  \n",
              "1048392  1.187034  1.742352 -0.602549                  United Arab Emirates  1  \n",
              "1048411 -0.212688  0.430973  0.456050  United States Minor Outlying Islands  1  \n",
              "1048431 -1.749363 -0.931163  1.083131                  United Arab Emirates  0  \n",
              "1048444  0.354428  1.231390  1.844600  United States Minor Outlying Islands  1  \n",
              "1048493 -2.515934 -2.201435 -1.054947  United States Minor Outlying Islands  0  "
            ],
            "text/html": [
              "\n",
              "  <div id=\"df-5a6833a0-81d5-42fa-bfa1-b0d5c7d96d13\">\n",
              "    <div class=\"colab-df-container\">\n",
              "      <div>\n",
              "<style scoped>\n",
              "    .dataframe tbody tr th:only-of-type {\n",
              "        vertical-align: middle;\n",
              "    }\n",
              "\n",
              "    .dataframe tbody tr th {\n",
              "        vertical-align: top;\n",
              "    }\n",
              "\n",
              "    .dataframe thead th {\n",
              "        text-align: right;\n",
              "    }\n",
              "</style>\n",
              "<table border=\"1\" class=\"dataframe\">\n",
              "  <thead>\n",
              "    <tr style=\"text-align: right;\">\n",
              "      <th></th>\n",
              "      <th>feature0</th>\n",
              "      <th>feature1</th>\n",
              "      <th>feature2</th>\n",
              "      <th>feature3</th>\n",
              "      <th>feature4</th>\n",
              "      <th>feature5</th>\n",
              "      <th>feature6</th>\n",
              "      <th>feature7</th>\n",
              "      <th>feature8</th>\n",
              "      <th>feature9</th>\n",
              "      <th>country</th>\n",
              "      <th>0</th>\n",
              "    </tr>\n",
              "  </thead>\n",
              "  <tbody>\n",
              "    <tr>\n",
              "      <th>1048392</th>\n",
              "      <td>1.647939</td>\n",
              "      <td>-0.941760</td>\n",
              "      <td>1.908531</td>\n",
              "      <td>0.768186</td>\n",
              "      <td>-2.233725</td>\n",
              "      <td>0.184583</td>\n",
              "      <td>0.940199</td>\n",
              "      <td>1.187034</td>\n",
              "      <td>1.742352</td>\n",
              "      <td>-0.602549</td>\n",
              "      <td>United Arab Emirates</td>\n",
              "      <td>1</td>\n",
              "    </tr>\n",
              "    <tr>\n",
              "      <th>1048411</th>\n",
              "      <td>-2.230785</td>\n",
              "      <td>0.453977</td>\n",
              "      <td>0.454118</td>\n",
              "      <td>0.959416</td>\n",
              "      <td>0.108926</td>\n",
              "      <td>-0.693497</td>\n",
              "      <td>1.594232</td>\n",
              "      <td>-0.212688</td>\n",
              "      <td>0.430973</td>\n",
              "      <td>0.456050</td>\n",
              "      <td>United States Minor Outlying Islands</td>\n",
              "      <td>1</td>\n",
              "    </tr>\n",
              "    <tr>\n",
              "      <th>1048431</th>\n",
              "      <td>-0.421270</td>\n",
              "      <td>2.016044</td>\n",
              "      <td>-1.579364</td>\n",
              "      <td>1.283840</td>\n",
              "      <td>-1.909855</td>\n",
              "      <td>0.076988</td>\n",
              "      <td>-0.180474</td>\n",
              "      <td>-1.749363</td>\n",
              "      <td>-0.931163</td>\n",
              "      <td>1.083131</td>\n",
              "      <td>United Arab Emirates</td>\n",
              "      <td>0</td>\n",
              "    </tr>\n",
              "    <tr>\n",
              "      <th>1048444</th>\n",
              "      <td>0.088414</td>\n",
              "      <td>-0.008242</td>\n",
              "      <td>1.221826</td>\n",
              "      <td>1.279175</td>\n",
              "      <td>-0.247247</td>\n",
              "      <td>2.036476</td>\n",
              "      <td>1.897682</td>\n",
              "      <td>0.354428</td>\n",
              "      <td>1.231390</td>\n",
              "      <td>1.844600</td>\n",
              "      <td>United States Minor Outlying Islands</td>\n",
              "      <td>1</td>\n",
              "    </tr>\n",
              "    <tr>\n",
              "      <th>1048493</th>\n",
              "      <td>-0.137712</td>\n",
              "      <td>2.568535</td>\n",
              "      <td>-1.644909</td>\n",
              "      <td>0.573583</td>\n",
              "      <td>0.104550</td>\n",
              "      <td>0.438326</td>\n",
              "      <td>-1.485963</td>\n",
              "      <td>-2.515934</td>\n",
              "      <td>-2.201435</td>\n",
              "      <td>-1.054947</td>\n",
              "      <td>United States Minor Outlying Islands</td>\n",
              "      <td>0</td>\n",
              "    </tr>\n",
              "  </tbody>\n",
              "</table>\n",
              "</div>\n",
              "      <button class=\"colab-df-convert\" onclick=\"convertToInteractive('df-5a6833a0-81d5-42fa-bfa1-b0d5c7d96d13')\"\n",
              "              title=\"Convert this dataframe to an interactive table.\"\n",
              "              style=\"display:none;\">\n",
              "        \n",
              "  <svg xmlns=\"http://www.w3.org/2000/svg\" height=\"24px\"viewBox=\"0 0 24 24\"\n",
              "       width=\"24px\">\n",
              "    <path d=\"M0 0h24v24H0V0z\" fill=\"none\"/>\n",
              "    <path d=\"M18.56 5.44l.94 2.06.94-2.06 2.06-.94-2.06-.94-.94-2.06-.94 2.06-2.06.94zm-11 1L8.5 8.5l.94-2.06 2.06-.94-2.06-.94L8.5 2.5l-.94 2.06-2.06.94zm10 10l.94 2.06.94-2.06 2.06-.94-2.06-.94-.94-2.06-.94 2.06-2.06.94z\"/><path d=\"M17.41 7.96l-1.37-1.37c-.4-.4-.92-.59-1.43-.59-.52 0-1.04.2-1.43.59L10.3 9.45l-7.72 7.72c-.78.78-.78 2.05 0 2.83L4 21.41c.39.39.9.59 1.41.59.51 0 1.02-.2 1.41-.59l7.78-7.78 2.81-2.81c.8-.78.8-2.07 0-2.86zM5.41 20L4 18.59l7.72-7.72 1.47 1.35L5.41 20z\"/>\n",
              "  </svg>\n",
              "      </button>\n",
              "      \n",
              "  <style>\n",
              "    .colab-df-container {\n",
              "      display:flex;\n",
              "      flex-wrap:wrap;\n",
              "      gap: 12px;\n",
              "    }\n",
              "\n",
              "    .colab-df-convert {\n",
              "      background-color: #E8F0FE;\n",
              "      border: none;\n",
              "      border-radius: 50%;\n",
              "      cursor: pointer;\n",
              "      display: none;\n",
              "      fill: #1967D2;\n",
              "      height: 32px;\n",
              "      padding: 0 0 0 0;\n",
              "      width: 32px;\n",
              "    }\n",
              "\n",
              "    .colab-df-convert:hover {\n",
              "      background-color: #E2EBFA;\n",
              "      box-shadow: 0px 1px 2px rgba(60, 64, 67, 0.3), 0px 1px 3px 1px rgba(60, 64, 67, 0.15);\n",
              "      fill: #174EA6;\n",
              "    }\n",
              "\n",
              "    [theme=dark] .colab-df-convert {\n",
              "      background-color: #3B4455;\n",
              "      fill: #D2E3FC;\n",
              "    }\n",
              "\n",
              "    [theme=dark] .colab-df-convert:hover {\n",
              "      background-color: #434B5C;\n",
              "      box-shadow: 0px 1px 3px 1px rgba(0, 0, 0, 0.15);\n",
              "      filter: drop-shadow(0px 1px 2px rgba(0, 0, 0, 0.3));\n",
              "      fill: #FFFFFF;\n",
              "    }\n",
              "  </style>\n",
              "\n",
              "      <script>\n",
              "        const buttonEl =\n",
              "          document.querySelector('#df-5a6833a0-81d5-42fa-bfa1-b0d5c7d96d13 button.colab-df-convert');\n",
              "        buttonEl.style.display =\n",
              "          google.colab.kernel.accessAllowed ? 'block' : 'none';\n",
              "\n",
              "        async function convertToInteractive(key) {\n",
              "          const element = document.querySelector('#df-5a6833a0-81d5-42fa-bfa1-b0d5c7d96d13');\n",
              "          const dataTable =\n",
              "            await google.colab.kernel.invokeFunction('convertToInteractive',\n",
              "                                                     [key], {});\n",
              "          if (!dataTable) return;\n",
              "\n",
              "          const docLinkHtml = 'Like what you see? Visit the ' +\n",
              "            '<a target=\"_blank\" href=https://colab.research.google.com/notebooks/data_table.ipynb>data table notebook</a>'\n",
              "            + ' to learn more about interactive tables.';\n",
              "          element.innerHTML = '';\n",
              "          dataTable['output_type'] = 'display_data';\n",
              "          await google.colab.output.renderOutput(dataTable, element);\n",
              "          const docLink = document.createElement('div');\n",
              "          docLink.innerHTML = docLinkHtml;\n",
              "          element.appendChild(docLink);\n",
              "        }\n",
              "      </script>\n",
              "    </div>\n",
              "  </div>\n",
              "  "
            ]
          },
          "metadata": {},
          "execution_count": 73
        }
      ],
      "source": [
        "%%time \n",
        "e_countries_pd = df.loc[np.logical_and(df['country'].str.startswith('U'), df['country'].str.endswith('s'))]\n",
        "e_countries_pd.tail()"
      ]
    },
    {
      "cell_type": "code",
      "execution_count": 74,
      "id": "0bdc7278",
      "metadata": {
        "id": "0bdc7278",
        "colab": {
          "base_uri": "https://localhost:8080/",
          "height": 243
        },
        "outputId": "69697c20-d212-47aa-e235-b55729551e72"
      },
      "outputs": [
        {
          "output_type": "stream",
          "name": "stdout",
          "text": [
            "CPU times: user 228 ms, sys: 12 ms, total: 240 ms\n",
            "Wall time: 244 ms\n"
          ]
        },
        {
          "output_type": "execute_result",
          "data": {
            "text/plain": [
              "         feature0  feature1  feature2  feature3  feature4  feature5  feature6  \\\n",
              "1048392  1.647939 -0.941760  1.908531  0.768186 -2.233725  0.184582  0.940199   \n",
              "1048411 -2.230785  0.453977  0.454118  0.959416  0.108926 -0.693497  1.594232   \n",
              "1048431 -0.421270  2.016044 -1.579364  1.283840 -1.909855  0.076988 -0.180474   \n",
              "1048444  0.088414 -0.008242  1.221826  1.279175 -0.247247  2.036476  1.897682   \n",
              "1048493 -0.137712  2.568535 -1.644909  0.573583  0.104550  0.438326 -1.485963   \n",
              "\n",
              "         feature7  feature8  feature9                               country  0  \n",
              "1048392  1.187034  1.742352 -0.602549                  United Arab Emirates  1  \n",
              "1048411 -0.212688  0.430973  0.456050  United States Minor Outlying Islands  1  \n",
              "1048431 -1.749363 -0.931163  1.083131                  United Arab Emirates  0  \n",
              "1048444  0.354428  1.231390  1.844600  United States Minor Outlying Islands  1  \n",
              "1048493 -2.515934 -2.201435 -1.054947  United States Minor Outlying Islands  0  "
            ],
            "text/html": [
              "<div>\n",
              "<style scoped>\n",
              "    .dataframe tbody tr th:only-of-type {\n",
              "        vertical-align: middle;\n",
              "    }\n",
              "\n",
              "    .dataframe tbody tr th {\n",
              "        vertical-align: top;\n",
              "    }\n",
              "\n",
              "    .dataframe thead th {\n",
              "        text-align: right;\n",
              "    }\n",
              "</style>\n",
              "<table border=\"1\" class=\"dataframe\">\n",
              "  <thead>\n",
              "    <tr style=\"text-align: right;\">\n",
              "      <th></th>\n",
              "      <th>feature0</th>\n",
              "      <th>feature1</th>\n",
              "      <th>feature2</th>\n",
              "      <th>feature3</th>\n",
              "      <th>feature4</th>\n",
              "      <th>feature5</th>\n",
              "      <th>feature6</th>\n",
              "      <th>feature7</th>\n",
              "      <th>feature8</th>\n",
              "      <th>feature9</th>\n",
              "      <th>country</th>\n",
              "      <th>0</th>\n",
              "    </tr>\n",
              "  </thead>\n",
              "  <tbody>\n",
              "    <tr>\n",
              "      <th>1048392</th>\n",
              "      <td>1.647939</td>\n",
              "      <td>-0.941760</td>\n",
              "      <td>1.908531</td>\n",
              "      <td>0.768186</td>\n",
              "      <td>-2.233725</td>\n",
              "      <td>0.184582</td>\n",
              "      <td>0.940199</td>\n",
              "      <td>1.187034</td>\n",
              "      <td>1.742352</td>\n",
              "      <td>-0.602549</td>\n",
              "      <td>United Arab Emirates</td>\n",
              "      <td>1</td>\n",
              "    </tr>\n",
              "    <tr>\n",
              "      <th>1048411</th>\n",
              "      <td>-2.230785</td>\n",
              "      <td>0.453977</td>\n",
              "      <td>0.454118</td>\n",
              "      <td>0.959416</td>\n",
              "      <td>0.108926</td>\n",
              "      <td>-0.693497</td>\n",
              "      <td>1.594232</td>\n",
              "      <td>-0.212688</td>\n",
              "      <td>0.430973</td>\n",
              "      <td>0.456050</td>\n",
              "      <td>United States Minor Outlying Islands</td>\n",
              "      <td>1</td>\n",
              "    </tr>\n",
              "    <tr>\n",
              "      <th>1048431</th>\n",
              "      <td>-0.421270</td>\n",
              "      <td>2.016044</td>\n",
              "      <td>-1.579364</td>\n",
              "      <td>1.283840</td>\n",
              "      <td>-1.909855</td>\n",
              "      <td>0.076988</td>\n",
              "      <td>-0.180474</td>\n",
              "      <td>-1.749363</td>\n",
              "      <td>-0.931163</td>\n",
              "      <td>1.083131</td>\n",
              "      <td>United Arab Emirates</td>\n",
              "      <td>0</td>\n",
              "    </tr>\n",
              "    <tr>\n",
              "      <th>1048444</th>\n",
              "      <td>0.088414</td>\n",
              "      <td>-0.008242</td>\n",
              "      <td>1.221826</td>\n",
              "      <td>1.279175</td>\n",
              "      <td>-0.247247</td>\n",
              "      <td>2.036476</td>\n",
              "      <td>1.897682</td>\n",
              "      <td>0.354428</td>\n",
              "      <td>1.231390</td>\n",
              "      <td>1.844600</td>\n",
              "      <td>United States Minor Outlying Islands</td>\n",
              "      <td>1</td>\n",
              "    </tr>\n",
              "    <tr>\n",
              "      <th>1048493</th>\n",
              "      <td>-0.137712</td>\n",
              "      <td>2.568535</td>\n",
              "      <td>-1.644909</td>\n",
              "      <td>0.573583</td>\n",
              "      <td>0.104550</td>\n",
              "      <td>0.438326</td>\n",
              "      <td>-1.485963</td>\n",
              "      <td>-2.515934</td>\n",
              "      <td>-2.201435</td>\n",
              "      <td>-1.054947</td>\n",
              "      <td>United States Minor Outlying Islands</td>\n",
              "      <td>0</td>\n",
              "    </tr>\n",
              "  </tbody>\n",
              "</table>\n",
              "</div>"
            ]
          },
          "metadata": {},
          "execution_count": 74
        }
      ],
      "source": [
        "%%time\n",
        "e_countries = gdf.loc[cp.logical_and(gdf['country'].str.startswith('U'), gdf['country'].str.endswith('s'))]\n",
        "e_countries.tail()"
      ]
    },
    {
      "cell_type": "markdown",
      "id": "c4f7a9ed",
      "metadata": {
        "id": "c4f7a9ed"
      },
      "source": [
        "## Summary Statistics"
      ]
    },
    {
      "cell_type": "markdown",
      "id": "202106ff",
      "metadata": {
        "id": "202106ff"
      },
      "source": [
        "### Grouping"
      ]
    },
    {
      "cell_type": "code",
      "execution_count": 77,
      "id": "29a5fde6",
      "metadata": {
        "id": "29a5fde6",
        "outputId": "91a6fa0d-9dd2-4707-cbd5-1f7101268233",
        "colab": {
          "base_uri": "https://localhost:8080/"
        }
      },
      "outputs": [
        {
          "output_type": "stream",
          "name": "stdout",
          "text": [
            "                feature0\n",
            "country                 \n",
            "Afghanistan    -0.024402\n",
            "Albania         0.009175\n",
            "Algeria         0.015253\n",
            "American Samoa -0.006133\n",
            "Andorra        -0.028711\n",
            "CPU times: user 135 ms, sys: 10.1 ms, total: 145 ms\n",
            "Wall time: 187 ms\n"
          ]
        }
      ],
      "source": [
        "%%time\n",
        "countries_pd = df[['country', 'feature0']].groupby(['country'])\n",
        "avg_feature0_pd = countries_pd.mean()\n",
        "print(avg_feature0_pd[:5])"
      ]
    },
    {
      "cell_type": "code",
      "execution_count": 78,
      "id": "599a2413",
      "metadata": {
        "id": "599a2413",
        "outputId": "83c124e5-1868-42d6-a8f5-ec422e0def73",
        "colab": {
          "base_uri": "https://localhost:8080/"
        }
      },
      "outputs": [
        {
          "output_type": "stream",
          "name": "stdout",
          "text": [
            "                   feature0\n",
            "country                    \n",
            "Grenada            0.020730\n",
            "Indonesia          0.018211\n",
            "Sweden             0.002776\n",
            "Wallis and Futuna -0.003760\n",
            "Puerto Rico        0.014092\n",
            "CPU times: user 10.5 ms, sys: 1.01 ms, total: 11.5 ms\n",
            "Wall time: 12.2 ms\n"
          ]
        }
      ],
      "source": [
        "%%time\n",
        "countries = gdf[['country', 'feature0']].groupby(['country'])\n",
        "avg_feature0 = countries.mean()\n",
        "print(avg_feature0[:5])"
      ]
    },
    {
      "cell_type": "markdown",
      "id": "43561fd5",
      "metadata": {
        "id": "43561fd5"
      },
      "source": [
        "### Sorting"
      ]
    },
    {
      "cell_type": "code",
      "execution_count": 79,
      "id": "c182c905",
      "metadata": {
        "id": "c182c905",
        "outputId": "94dfbfec-4b54-45fa-ca92-a936ca54bfce",
        "colab": {
          "base_uri": "https://localhost:8080/"
        }
      },
      "outputs": [
        {
          "output_type": "stream",
          "name": "stdout",
          "text": [
            "68195     -4.935226\n",
            "1015392   -4.737764\n",
            "573151    -4.571545\n",
            "755089    -4.535323\n",
            "156861    -4.533626\n",
            "Name: feature0, dtype: float32\n",
            "736820    4.425749\n",
            "559937    4.458586\n",
            "457167    4.502169\n",
            "862358    4.759808\n",
            "402546    5.256614\n",
            "Name: feature0, dtype: float32\n",
            "CPU times: user 203 ms, sys: 1.98 ms, total: 205 ms\n",
            "Wall time: 207 ms\n"
          ]
        },
        {
          "output_type": "stream",
          "name": "stderr",
          "text": [
            "<timed exec>:2: FutureWarning: The behavior of `series[i:j]` with an integer-dtype index is deprecated. In a future version, this will be treated as *label-based* indexing, consistent with e.g. `series[i]` lookups. To retain the old behavior, use `series.iloc[i:j]`. To get the future behavior, use `series.loc[i:j]`.\n",
            "<timed exec>:3: FutureWarning: The behavior of `series[i:j]` with an integer-dtype index is deprecated. In a future version, this will be treated as *label-based* indexing, consistent with e.g. `series[i]` lookups. To retain the old behavior, use `series.iloc[i:j]`. To get the future behavior, use `series.loc[i:j]`.\n"
          ]
        }
      ],
      "source": [
        "%%time \n",
        "df_feature0 = df['feature0'].sort_values()\n",
        "print(df_feature0[:5])\n",
        "print(df_feature0[-5:])"
      ]
    },
    {
      "cell_type": "code",
      "execution_count": 80,
      "id": "03c180fb",
      "metadata": {
        "id": "03c180fb",
        "outputId": "4f1e345c-86cf-400d-f4f5-aab21c0d256b",
        "colab": {
          "base_uri": "https://localhost:8080/"
        }
      },
      "outputs": [
        {
          "output_type": "stream",
          "name": "stdout",
          "text": [
            "68195     -4.935226\n",
            "1015392   -4.737764\n",
            "573151    -4.571545\n",
            "755089    -4.535323\n",
            "156861    -4.533626\n",
            "Name: feature0, dtype: float32\n",
            "736820    4.425749\n",
            "559937    4.458586\n",
            "457167    4.502169\n",
            "862358    4.759808\n",
            "402546    5.256614\n",
            "Name: feature0, dtype: float32\n",
            "CPU times: user 14.6 ms, sys: 3 ms, total: 17.6 ms\n",
            "Wall time: 17.7 ms\n"
          ]
        }
      ],
      "source": [
        "%%time \n",
        "gdf_feature0 = gdf['feature0'].sort_values()\n",
        "print(gdf_feature0[:5])\n",
        "print(gdf_feature0[-5:])"
      ]
    },
    {
      "cell_type": "markdown",
      "id": "19c4c311",
      "metadata": {
        "id": "19c4c311"
      },
      "source": [
        "## Machine Learning\n",
        "cuml vs scikit-learn"
      ]
    },
    {
      "cell_type": "code",
      "execution_count": 81,
      "id": "f3d439cf",
      "metadata": {
        "id": "f3d439cf",
        "outputId": "84ddfa59-0521-4fa6-c5eb-72506d53ebf9",
        "colab": {
          "base_uri": "https://localhost:8080/"
        }
      },
      "outputs": [
        {
          "output_type": "stream",
          "name": "stdout",
          "text": [
            "CPU times: user 222 ms, sys: 1.97 ms, total: 224 ms\n",
            "Wall time: 225 ms\n"
          ]
        }
      ],
      "source": [
        "%%time\n",
        "X = df.drop(columns=['0', 'country'])\n",
        "# cuML Random Forest Classifier requires the labels to be integers\n",
        "y = df['0']\n",
        "\n",
        "X_train, X_test, y_train, y_test = train_test_split(X, y,\n",
        "                                                    test_size = 0.3,\n",
        "                                                    random_state=0)"
      ]
    },
    {
      "cell_type": "code",
      "execution_count": 82,
      "id": "5fddaaf2",
      "metadata": {
        "id": "5fddaaf2",
        "outputId": "32813b4e-1431-43ea-c9ad-2514c835860d",
        "colab": {
          "base_uri": "https://localhost:8080/"
        }
      },
      "outputs": [
        {
          "output_type": "stream",
          "name": "stdout",
          "text": [
            "CPU times: user 71.4 ms, sys: 5.98 ms, total: 77.4 ms\n",
            "Wall time: 77.4 ms\n"
          ]
        }
      ],
      "source": [
        "%%time\n",
        "X_cudf_train = cudf.DataFrame.from_pandas(X_train)\n",
        "X_cudf_test = cudf.DataFrame.from_pandas(X_test)\n",
        "\n",
        "y_cudf_train = cudf.Series(y_train.values)"
      ]
    },
    {
      "cell_type": "markdown",
      "id": "0fe9d125",
      "metadata": {
        "id": "0fe9d125"
      },
      "source": [
        "### Scikit-learn Fit"
      ]
    },
    {
      "cell_type": "code",
      "execution_count": 83,
      "id": "26958cfc",
      "metadata": {
        "id": "26958cfc",
        "outputId": "7a08612d-fe86-4c1a-e38e-8226a3370a88",
        "colab": {
          "base_uri": "https://localhost:8080/",
          "height": 129
        }
      },
      "outputs": [
        {
          "output_type": "stream",
          "name": "stdout",
          "text": [
            "CPU times: user 5min 17s, sys: 394 ms, total: 5min 17s\n",
            "Wall time: 5min 22s\n"
          ]
        },
        {
          "output_type": "execute_result",
          "data": {
            "text/plain": [
              "RandomForestClassifier(max_depth=10, max_features=1.0, n_estimators=40,\n",
              "                       random_state=10)"
            ],
            "text/html": [
              "<style>#sk-container-id-2 {color: black;background-color: white;}#sk-container-id-2 pre{padding: 0;}#sk-container-id-2 div.sk-toggleable {background-color: white;}#sk-container-id-2 label.sk-toggleable__label {cursor: pointer;display: block;width: 100%;margin-bottom: 0;padding: 0.3em;box-sizing: border-box;text-align: center;}#sk-container-id-2 label.sk-toggleable__label-arrow:before {content: \"▸\";float: left;margin-right: 0.25em;color: #696969;}#sk-container-id-2 label.sk-toggleable__label-arrow:hover:before {color: black;}#sk-container-id-2 div.sk-estimator:hover label.sk-toggleable__label-arrow:before {color: black;}#sk-container-id-2 div.sk-toggleable__content {max-height: 0;max-width: 0;overflow: hidden;text-align: left;background-color: #f0f8ff;}#sk-container-id-2 div.sk-toggleable__content pre {margin: 0.2em;color: black;border-radius: 0.25em;background-color: #f0f8ff;}#sk-container-id-2 input.sk-toggleable__control:checked~div.sk-toggleable__content {max-height: 200px;max-width: 100%;overflow: auto;}#sk-container-id-2 input.sk-toggleable__control:checked~label.sk-toggleable__label-arrow:before {content: \"▾\";}#sk-container-id-2 div.sk-estimator input.sk-toggleable__control:checked~label.sk-toggleable__label {background-color: #d4ebff;}#sk-container-id-2 div.sk-label input.sk-toggleable__control:checked~label.sk-toggleable__label {background-color: #d4ebff;}#sk-container-id-2 input.sk-hidden--visually {border: 0;clip: rect(1px 1px 1px 1px);clip: rect(1px, 1px, 1px, 1px);height: 1px;margin: -1px;overflow: hidden;padding: 0;position: absolute;width: 1px;}#sk-container-id-2 div.sk-estimator {font-family: monospace;background-color: #f0f8ff;border: 1px dotted black;border-radius: 0.25em;box-sizing: border-box;margin-bottom: 0.5em;}#sk-container-id-2 div.sk-estimator:hover {background-color: #d4ebff;}#sk-container-id-2 div.sk-parallel-item::after {content: \"\";width: 100%;border-bottom: 1px solid gray;flex-grow: 1;}#sk-container-id-2 div.sk-label:hover label.sk-toggleable__label {background-color: #d4ebff;}#sk-container-id-2 div.sk-serial::before {content: \"\";position: absolute;border-left: 1px solid gray;box-sizing: border-box;top: 0;bottom: 0;left: 50%;z-index: 0;}#sk-container-id-2 div.sk-serial {display: flex;flex-direction: column;align-items: center;background-color: white;padding-right: 0.2em;padding-left: 0.2em;position: relative;}#sk-container-id-2 div.sk-item {position: relative;z-index: 1;}#sk-container-id-2 div.sk-parallel {display: flex;align-items: stretch;justify-content: center;background-color: white;position: relative;}#sk-container-id-2 div.sk-item::before, #sk-container-id-2 div.sk-parallel-item::before {content: \"\";position: absolute;border-left: 1px solid gray;box-sizing: border-box;top: 0;bottom: 0;left: 50%;z-index: -1;}#sk-container-id-2 div.sk-parallel-item {display: flex;flex-direction: column;z-index: 1;position: relative;background-color: white;}#sk-container-id-2 div.sk-parallel-item:first-child::after {align-self: flex-end;width: 50%;}#sk-container-id-2 div.sk-parallel-item:last-child::after {align-self: flex-start;width: 50%;}#sk-container-id-2 div.sk-parallel-item:only-child::after {width: 0;}#sk-container-id-2 div.sk-dashed-wrapped {border: 1px dashed gray;margin: 0 0.4em 0.5em 0.4em;box-sizing: border-box;padding-bottom: 0.4em;background-color: white;}#sk-container-id-2 div.sk-label label {font-family: monospace;font-weight: bold;display: inline-block;line-height: 1.2em;}#sk-container-id-2 div.sk-label-container {text-align: center;}#sk-container-id-2 div.sk-container {/* jupyter's `normalize.less` sets `[hidden] { display: none; }` but bootstrap.min.css set `[hidden] { display: none !important; }` so we also need the `!important` here to be able to override the default hidden behavior on the sphinx rendered scikit-learn.org. See: https://github.com/scikit-learn/scikit-learn/issues/21755 */display: inline-block !important;position: relative;}#sk-container-id-2 div.sk-text-repr-fallback {display: none;}</style><div id=\"sk-container-id-2\" class=\"sk-top-container\"><div class=\"sk-text-repr-fallback\"><pre>RandomForestClassifier(max_depth=10, max_features=1.0, n_estimators=40,\n",
              "                       random_state=10)</pre><b>In a Jupyter environment, please rerun this cell to show the HTML representation or trust the notebook. <br />On GitHub, the HTML representation is unable to render, please try loading this page with nbviewer.org.</b></div><div class=\"sk-container\" hidden><div class=\"sk-item\"><div class=\"sk-estimator sk-toggleable\"><input class=\"sk-toggleable__control sk-hidden--visually\" id=\"sk-estimator-id-2\" type=\"checkbox\" checked><label for=\"sk-estimator-id-2\" class=\"sk-toggleable__label sk-toggleable__label-arrow\">RandomForestClassifier</label><div class=\"sk-toggleable__content\"><pre>RandomForestClassifier(max_depth=10, max_features=1.0, n_estimators=40,\n",
              "                       random_state=10)</pre></div></div></div></div></div>"
            ]
          },
          "metadata": {},
          "execution_count": 83
        }
      ],
      "source": [
        "%%time\n",
        "sk_model = skrfc(n_estimators=40,\n",
        "                 max_depth=10,\n",
        "                 max_features=1.0,\n",
        "                 random_state=10)\n",
        "\n",
        "sk_model.fit(X_train, y_train)"
      ]
    },
    {
      "cell_type": "code",
      "execution_count": 84,
      "id": "26627c7f",
      "metadata": {
        "id": "26627c7f",
        "outputId": "ac358b71-e598-4cd4-adeb-fd05ae47bc43",
        "colab": {
          "base_uri": "https://localhost:8080/"
        }
      },
      "outputs": [
        {
          "output_type": "stream",
          "name": "stdout",
          "text": [
            "CPU times: user 1.11 s, sys: 4.99 ms, total: 1.12 s\n",
            "Wall time: 1.11 s\n"
          ]
        }
      ],
      "source": [
        "%%time\n",
        "sk_predict = sk_model.predict(X_test)\n",
        "sk_acc = accuracy_score(y_test, sk_predict)"
      ]
    },
    {
      "cell_type": "markdown",
      "id": "4a915c16",
      "metadata": {
        "id": "4a915c16"
      },
      "source": [
        "### cuML model"
      ]
    },
    {
      "cell_type": "code",
      "execution_count": 88,
      "id": "dc0f3d05",
      "metadata": {
        "id": "dc0f3d05",
        "outputId": "532cbe8d-e311-4bf6-d94b-2cb00bc21c30",
        "colab": {
          "base_uri": "https://localhost:8080/"
        }
      },
      "outputs": [
        {
          "output_type": "stream",
          "name": "stdout",
          "text": [
            "CPU times: user 2.65 s, sys: 1.61 s, total: 4.27 s\n",
            "Wall time: 2.26 s\n"
          ]
        },
        {
          "output_type": "execute_result",
          "data": {
            "text/plain": [
              "RandomForestClassifier()"
            ]
          },
          "metadata": {},
          "execution_count": 88
        }
      ],
      "source": [
        "%%time\n",
        "cuml_model = curfc(n_estimators=40,\n",
        "                   max_depth=10,\n",
        "                   max_features=1.0,\n",
        "                   random_state=10)\n",
        "\n",
        "cuml_model.fit(X_cudf_train, y_cudf_train)"
      ]
    },
    {
      "cell_type": "code",
      "execution_count": 89,
      "id": "b53063f3",
      "metadata": {
        "id": "b53063f3",
        "outputId": "72473d94-6723-4d4c-c2eb-fe94ee16c2b4",
        "colab": {
          "base_uri": "https://localhost:8080/"
        }
      },
      "outputs": [
        {
          "output_type": "stream",
          "name": "stdout",
          "text": [
            "CPU times: user 48.2 ms, sys: 11 ms, total: 59.2 ms\n",
            "Wall time: 42.6 ms\n"
          ]
        }
      ],
      "source": [
        "%%time\n",
        "fil_preds_orig = cuml_model.predict(X_cudf_test)\n",
        "\n",
        "fil_acc_orig = accuracy_score(y_test.to_numpy(), fil_preds_orig)"
      ]
    },
    {
      "cell_type": "code",
      "execution_count": 90,
      "id": "832926ce",
      "metadata": {
        "id": "832926ce",
        "outputId": "494e98e5-6e0f-4fb2-cb77-ee06819d47c9",
        "colab": {
          "base_uri": "https://localhost:8080/"
        }
      },
      "outputs": [
        {
          "output_type": "stream",
          "name": "stdout",
          "text": [
            "SKL accuracy: 0.9360275864601135\n",
            "CUML accuracy: 0.9360307455062866\n"
          ]
        }
      ],
      "source": [
        "print(\"SKL accuracy: %s\" % sk_acc)\n",
        "print(\"CUML accuracy: %s\" % fil_acc_orig)"
      ]
    },
    {
      "cell_type": "code",
      "execution_count": 87,
      "id": "96c1c6eb",
      "metadata": {
        "id": "96c1c6eb"
      },
      "outputs": [],
      "source": []
    }
  ],
  "metadata": {
    "kernelspec": {
      "display_name": "Python 3",
      "language": "python",
      "name": "python3"
    },
    "language_info": {
      "codemirror_mode": {
        "name": "ipython",
        "version": 3
      },
      "file_extension": ".py",
      "mimetype": "text/x-python",
      "name": "python",
      "nbconvert_exporter": "python",
      "pygments_lexer": "ipython3",
      "version": "3.8.8"
    },
    "colab": {
      "provenance": []
    },
    "accelerator": "GPU",
    "gpuClass": "standard"
  },
  "nbformat": 4,
  "nbformat_minor": 5
}